{
  "nbformat": 4,
  "nbformat_minor": 0,
  "metadata": {
    "colab": {
      "provenance": [],
      "authorship_tag": "ABX9TyO4gIav4C1aPD5ITJIs6nzo",
      "include_colab_link": true
    },
    "kernelspec": {
      "name": "python3",
      "display_name": "Python 3"
    },
    "language_info": {
      "name": "python"
    }
  },
  "cells": [
    {
      "cell_type": "markdown",
      "metadata": {
        "id": "view-in-github",
        "colab_type": "text"
      },
      "source": [
        "<a href=\"https://colab.research.google.com/github/thirusha-n/thirusha_8D20F121C6578DBB6E9461750C62E871/blob/main/age.ipynb\" target=\"_parent\"><img src=\"https://colab.research.google.com/assets/colab-badge.svg\" alt=\"Open In Colab\"/></a>"
      ]
    },
    {
      "cell_type": "code",
      "execution_count": 1,
      "metadata": {
        "colab": {
          "base_uri": "https://localhost:8080/"
        },
        "id": "SgNCaUgSzm7_",
        "outputId": "a73eda07-1dac-45cb-eccf-2c91b979e060"
      },
      "outputs": [
        {
          "output_type": "stream",
          "name": "stdout",
          "text": [
            "5\n",
            "Child\n"
          ]
        }
      ],
      "source": [
        "age = int(input())\n",
        "if age >=0 and age <=11:\n",
        "    print(\"Child\")\n",
        "elif age >=12 and age <=17:\n",
        "    print(\"Teen\")\n",
        "elif age >= 18 and age<=50:\n",
        "    print(\"Adult\")\n",
        "else:\n",
        "    print(\"senior\")\n"
      ]
    }
  ]
}