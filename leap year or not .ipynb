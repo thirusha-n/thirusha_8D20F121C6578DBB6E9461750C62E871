{
  "nbformat": 4,
  "nbformat_minor": 0,
  "metadata": {
    "colab": {
      "provenance": [],
      "authorship_tag": "ABX9TyMywikdQudtolUMbItlOeXF",
      "include_colab_link": true
    },
    "kernelspec": {
      "name": "python3",
      "display_name": "Python 3"
    },
    "language_info": {
      "name": "python"
    }
  },
  "cells": [
    {
      "cell_type": "markdown",
      "metadata": {
        "id": "view-in-github",
        "colab_type": "text"
      },
      "source": [
        "<a href=\"https://colab.research.google.com/github/thirusha-n/thirusha_8D20F121C6578DBB6E9461750C62E871/blob/main/leap%20year%20or%20not%20.ipynb\" target=\"_parent\"><img src=\"https://colab.research.google.com/assets/colab-badge.svg\" alt=\"Open In Colab\"/></a>"
      ]
    },
    {
      "cell_type": "code",
      "execution_count": 1,
      "metadata": {
        "colab": {
          "base_uri": "https://localhost:8080/"
        },
        "id": "0ghJmZ2a4v52",
        "outputId": "5b647ade-d2e7-47c1-d24f-c83380ee4a60"
      },
      "outputs": [
        {
          "output_type": "stream",
          "name": "stdout",
          "text": [
            "enter a year2025\n",
            "2025 is not a leap year.\n"
          ]
        }
      ],
      "source": [
        "year = int(input(\"enter a year\"))\n",
        "if year % 4 == 0:\n",
        "  print(f\"{year} is a leap year.\")\n",
        "else:\n",
        "  print(f\"{year} is not a leap year.\")"
      ]
    }
  ]
}