{
  "nbformat": 4,
  "nbformat_minor": 0,
  "metadata": {
    "colab": {
      "provenance": [],
      "authorship_tag": "ABX9TyO1+eH4TjI68g/3CwSspUnH",
      "include_colab_link": true
    },
    "kernelspec": {
      "name": "python3",
      "display_name": "Python 3"
    },
    "language_info": {
      "name": "python"
    }
  },
  "cells": [
    {
      "cell_type": "markdown",
      "metadata": {
        "id": "view-in-github",
        "colab_type": "text"
      },
      "source": [
        "<a href=\"https://colab.research.google.com/github/thirusha-n/thirusha_8D20F121C6578DBB6E9461750C62E871/blob/main/string.ipynb\" target=\"_parent\"><img src=\"https://colab.research.google.com/assets/colab-badge.svg\" alt=\"Open In Colab\"/></a>"
      ]
    },
    {
      "cell_type": "code",
      "execution_count": 1,
      "metadata": {
        "colab": {
          "base_uri": "https://localhost:8080/"
        },
        "id": "OafhRqmdLAu5",
        "outputId": "51a820ea-db10-4d33-e9f1-e509805bad9e"
      },
      "outputs": [
        {
          "output_type": "stream",
          "name": "stdout",
          "text": [
            "Enter the first string: thiru\n",
            "Enter the second string: sha\n",
            "The strings are completely different.\n"
          ]
        }
      ],
      "source": [
        "def compare_strings(str1, str2):\n",
        "\n",
        "    if str1 == str2:\n",
        "        print(\"The strings are equal.\")\n",
        "\n",
        "    elif str1 in str2:\n",
        "        print(f'\"{str1}\" is a substring of \"{str2}\".')\n",
        "\n",
        "    elif str2 in str1:\n",
        "        print(f'\"{str2}\" is a substring of \"{str1}\".')\n",
        "\n",
        "    else:\n",
        "        print(\"The strings are completely different.\")\n",
        "\n",
        "\n",
        "str1 = input(\"Enter the first string: \")\n",
        "str2 = input(\"Enter the second string: \")\n",
        "\n",
        "\n",
        "compare_strings(str1, str2)"
      ]
    }
  ]
}