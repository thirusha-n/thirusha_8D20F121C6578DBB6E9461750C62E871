{
  "nbformat": 4,
  "nbformat_minor": 0,
  "metadata": {
    "colab": {
      "provenance": [],
      "authorship_tag": "ABX9TyO2lqDt5wCFmVDql6YGq3Hy",
      "include_colab_link": true
    },
    "kernelspec": {
      "name": "python3",
      "display_name": "Python 3"
    },
    "language_info": {
      "name": "python"
    }
  },
  "cells": [
    {
      "cell_type": "markdown",
      "metadata": {
        "id": "view-in-github",
        "colab_type": "text"
      },
      "source": [
        "<a href=\"https://colab.research.google.com/github/thirusha-n/thirusha_8D20F121C6578DBB6E9461750C62E871/blob/main/attendance.ipynb\" target=\"_parent\"><img src=\"https://colab.research.google.com/assets/colab-badge.svg\" alt=\"Open In Colab\"/></a>"
      ]
    },
    {
      "cell_type": "code",
      "execution_count": 3,
      "metadata": {
        "colab": {
          "base_uri": "https://localhost:8080/"
        },
        "id": "Y13PG2gm9XsA",
        "outputId": "6ec4d23c-de29-43b5-b3ce-5f419b24a09a"
      },
      "outputs": [
        {
          "output_type": "stream",
          "name": "stdout",
          "text": [
            "Enter total number of classes:30\n",
            "enter number of  classes attended:14\n",
            "attendance percentage:46.67%\n",
            "you are not eligable to sit for exams due to low attendance\n"
          ]
        }
      ],
      "source": [
        "total_classes = int (input(\"Enter total number of classes:\"))\n",
        "attended_classes = int(input(\"enter number of  classes attended:\"))\n",
        "attendance_percentage = (attended_classes/total_classes)*100\n",
        "if attendance_percentage >=75:\n",
        "  print(f\"anttendance percentage:{attendance_percentage:.2f}%\")\n",
        "  print(\"you are eligible to sit for exams.\")\n",
        "else:\n",
        "    print(f\"attendance percentage:{attendance_percentage:.2f}%\")\n",
        "    print (\"you are not eligable to sit for exams due to low attendance\")"
      ]
    }
  ]
}