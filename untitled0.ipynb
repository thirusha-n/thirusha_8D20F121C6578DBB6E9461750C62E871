{
  "nbformat": 4,
  "nbformat_minor": 0,
  "metadata": {
    "colab": {
      "provenance": [],
      "authorship_tag": "ABX9TyOnpSZ8Uy5QLm5IwAY+Ngl7",
      "include_colab_link": true
    },
    "kernelspec": {
      "name": "python3",
      "display_name": "Python 3"
    },
    "language_info": {
      "name": "python"
    }
  },
  "cells": [
    {
      "cell_type": "markdown",
      "metadata": {
        "id": "view-in-github",
        "colab_type": "text"
      },
      "source": [
        "<a href=\"https://colab.research.google.com/github/thirusha-n/thirusha_8D20F121C6578DBB6E9461750C62E871/blob/main/untitled0.ipynb\" target=\"_parent\"><img src=\"https://colab.research.google.com/assets/colab-badge.svg\" alt=\"Open In Colab\"/></a>"
      ]
    },
    {
      "cell_type": "code",
      "execution_count": null,
      "metadata": {
        "colab": {
          "base_uri": "https://localhost:8080/"
        },
        "id": "x0qgoBEpHT-d",
        "outputId": "d300d6a4-69ea-40a8-bedd-3b45a531da1f"
      },
      "outputs": [
        {
          "output_type": "stream",
          "name": "stdout",
          "text": [
            "main line\n",
            "module name: __main__\n",
            "parent process: 83\n",
            "process id: 552\n",
            "function f\n",
            "module name: __main__\n",
            "parent process: 552\n",
            "process id: 1799\n",
            "hello,name\n",
            "child process; Process-1\n",
            "child process ID 1799\n"
          ]
        }
      ],
      "source": [
        "from multiprocessing import Process\n",
        "import os\n",
        "def info(title):\n",
        "    print(title)\n",
        "    print('module name:',__name__)\n",
        "    print('parent process:',os.getppid())\n",
        "    print('process id:',os.getpid())\n",
        "def f(name):\n",
        "  info('function f')\n",
        "  print('hello,name')\n",
        "if __name__=='__main__':\n",
        "   info('main line')\n",
        "   p= Process(target=f,args=('bob',))\n",
        "   p.start()\n",
        "   p.join()\n",
        "   print(\"child process;\",p.name)\n",
        "   print(\"child process ID\",p.pid)\n",
        "\n"
      ]
    }
  ]
}