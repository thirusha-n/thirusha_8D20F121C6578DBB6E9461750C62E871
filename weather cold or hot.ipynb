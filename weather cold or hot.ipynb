{
  "nbformat": 4,
  "nbformat_minor": 0,
  "metadata": {
    "colab": {
      "provenance": [],
      "authorship_tag": "ABX9TyPzhQDkRyJcfrUwcok6R08V",
      "include_colab_link": true
    },
    "kernelspec": {
      "name": "python3",
      "display_name": "Python 3"
    },
    "language_info": {
      "name": "python"
    }
  },
  "cells": [
    {
      "cell_type": "markdown",
      "metadata": {
        "id": "view-in-github",
        "colab_type": "text"
      },
      "source": [
        "<a href=\"https://colab.research.google.com/github/thirusha-n/thirusha_8D20F121C6578DBB6E9461750C62E871/blob/main/weather%20cold%20or%20hot.ipynb\" target=\"_parent\"><img src=\"https://colab.research.google.com/assets/colab-badge.svg\" alt=\"Open In Colab\"/></a>"
      ]
    },
    {
      "cell_type": "code",
      "execution_count": 2,
      "metadata": {
        "colab": {
          "base_uri": "https://localhost:8080/"
        },
        "id": "izbsHahkHrZm",
        "outputId": "85a54e8f-aee5-4c4b-db6a-457647ffb8e5"
      },
      "outputs": [
        {
          "output_type": "stream",
          "name": "stdout",
          "text": [
            "enter the temperature in celsius:75\n",
            "it is hot! wear light clothing such as shorts and t -shirts.\n"
          ]
        }
      ],
      "source": [
        "temperature = float(input(\"enter the temperature in celsius:\"))\n",
        "if temperature >=25:\n",
        "    print (\"it is hot! wear light clothing such as shorts and t -shirts.\")\n",
        "elif temperature >=15:\n",
        "    print(\"it is moderate .you might want to wear jean or pants with a light jacket.\")\n",
        "elif temperature >=5:\n",
        "     print(\"it 's cool.consider wearing a sweater or hoodie.\")\n",
        "else:\n",
        "  print(\"it 's cold!bundle up with a heavy coat ,scarf,and gloves.\")"
      ]
    }
  ]
}