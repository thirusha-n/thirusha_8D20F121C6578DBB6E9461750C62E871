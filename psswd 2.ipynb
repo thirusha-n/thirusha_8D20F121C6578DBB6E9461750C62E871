{
  "nbformat": 4,
  "nbformat_minor": 0,
  "metadata": {
    "colab": {
      "provenance": [],
      "authorship_tag": "ABX9TyPjNciA0Uhcd2AJAKntgALd",
      "include_colab_link": true
    },
    "kernelspec": {
      "name": "python3",
      "display_name": "Python 3"
    },
    "language_info": {
      "name": "python"
    }
  },
  "cells": [
    {
      "cell_type": "markdown",
      "metadata": {
        "id": "view-in-github",
        "colab_type": "text"
      },
      "source": [
        "<a href=\"https://colab.research.google.com/github/thirusha-n/thirusha_8D20F121C6578DBB6E9461750C62E871/blob/main/psswd%202.ipynb\" target=\"_parent\"><img src=\"https://colab.research.google.com/assets/colab-badge.svg\" alt=\"Open In Colab\"/></a>"
      ]
    },
    {
      "cell_type": "code",
      "execution_count": null,
      "metadata": {
        "colab": {
          "base_uri": "https://localhost:8080/"
        },
        "id": "SSfUU7dNCcWP",
        "outputId": "3b22b315-f0a5-4841-ed4a-d9a34871e4d5"
      },
      "outputs": [
        {
          "name": "stdout",
          "output_type": "stream",
          "text": [
            "enter your password\n"
          ]
        }
      ],
      "source": [
        " password =\"sai\"\n",
        " i=1\n",
        "while i<=3:\n",
        "    pwd =input(\"enter your password\")\n",
        "    if password != pwd:\n",
        "      i=i+1\n",
        "    else:\n",
        "      print(\"login\")\n",
        "      break"
      ]
    }
  ]
}