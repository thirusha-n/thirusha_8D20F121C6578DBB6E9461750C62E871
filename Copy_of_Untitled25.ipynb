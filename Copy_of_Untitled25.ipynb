{
  "nbformat": 4,
  "nbformat_minor": 0,
  "metadata": {
    "colab": {
      "provenance": [],
      "authorship_tag": "ABX9TyM++amDFXF0Ae1px7V0Rhel",
      "include_colab_link": true
    },
    "kernelspec": {
      "name": "python3",
      "display_name": "Python 3"
    },
    "language_info": {
      "name": "python"
    }
  },
  "cells": [
    {
      "cell_type": "markdown",
      "metadata": {
        "id": "view-in-github",
        "colab_type": "text"
      },
      "source": [
        "<a href=\"https://colab.research.google.com/github/thirusha-n/thirusha_8D20F121C6578DBB6E9461750C62E871/blob/main/Copy_of_Untitled25.ipynb\" target=\"_parent\"><img src=\"https://colab.research.google.com/assets/colab-badge.svg\" alt=\"Open In Colab\"/></a>"
      ]
    },
    {
      "cell_type": "code",
      "execution_count": null,
      "metadata": {
        "id": "waTGFcyEdh8J"
      },
      "outputs": [],
      "source": [
        "haracter = input(\"enter a character:\")\n",
        "vowels='aeiouAEIOU'\n",
        "if character.isalpha():\n",
        "   if character in vowels:\n",
        "      print(\"vowels\")\n",
        "   else:\n",
        "      print(\"constant\")\n",
        "else:\n",
        "    print(\"not a alphabet character\")"
      ]
    },
    {
      "cell_type": "code",
      "source": [
        "a=int(input(\"enter a number:\"))\n",
        "if(a%3==0 and a%5==0):\n",
        "    print(\"it is divisible by both 3 and 5)\n",
        "else:\n",
        "    print(\"it is not divisible by both 3 and 5\")"
      ],
      "metadata": {
        "id": "z1IiGkdedm9h"
      },
      "execution_count": null,
      "outputs": []
    },
    {
      "cell_type": "code",
      "source": [
        "a=int(input(\"enter age:\"))\n",
        "if(a<=10):\n",
        "    print(\"child\")\n",
        "elif(a<=18):\n",
        "    print(\"teenager\")\n",
        "else:\n",
        "    print(\"may be adult or senoir\")"
      ],
      "metadata": {
        "id": "C-gjL4EddtmL"
      },
      "execution_count": null,
      "outputs": []
    },
    {
      "cell_type": "code",
      "source": [
        "temp=float(input(\"enter the temperature:\"))\n",
        "if(temp>30):\n",
        "    print(\"it's hot! wear lite cloths\")\n",
        "elif(temp<=0):\n",
        "    print(\"it's cold! wear bundle of cloths\")\n",
        "else:\n",
        "    print(\"it is extreme cold! wear some warm colths\")"
      ],
      "metadata": {
        "id": "NSB7ywqWd1HS"
      },
      "execution_count": null,
      "outputs": []
    },
    {
      "cell_type": "code",
      "source": [
        "year=int(input(\"enter a year:\"))\n",
        "if(year%4==0):\n",
        "    print(\"leap year\")\n",
        "else:\n",
        "    print(\"not a leap year\")"
      ],
      "metadata": {
        "id": "EetWNcUmd5vj"
      },
      "execution_count": null,
      "outputs": []
    },
    {
      "cell_type": "code",
      "source": [
        "grade=int(input(\"enter a grade:\"))\n",
        "if(grade>=80):\n",
        "    print(\"A grade\")\n",
        "if(grade>=50 and grade<=70):\n",
        "    print(\"B grade\")\n",
        "if(grade<=35):\n",
        "    print(\"F grade\")"
      ],
      "metadata": {
        "id": "jDC35oOCeBeT"
      },
      "execution_count": null,
      "outputs": []
    },
    {
      "cell_type": "code",
      "source": [
        "a=int(input(\"enter a no:\"))\n",
        "if(a%2==0):\n",
        "    print(\"even\")\n",
        "else:\n",
        "    print(\"odd\")"
      ],
      "metadata": {
        "id": "b3RIIosteGk8"
      },
      "execution_count": null,
      "outputs": []
    },
    {
      "cell_type": "code",
      "source": [
        "a=int(input(\"enter a day:\"))\n",
        "if(a==2):\n",
        "    print(\"monday\")\n",
        "else:\n",
        "    print(\"saturday\")"
      ],
      "metadata": {
        "id": "XLIWsA4jeMac"
      },
      "execution_count": null,
      "outputs": []
    },
    {
      "cell_type": "code",
      "source": [
        "a=int(input(\"enter age:\"))\n",
        "if(a>=13 and a<=19):\n",
        "    print(\"your an teenager\")\n",
        "elif(a<13):\n",
        "    print(\"your an child\")\n",
        "else:\n",
        "    print(\"adult\")"
      ],
      "metadata": {
        "id": "KZ-lhZaTet3N"
      },
      "execution_count": null,
      "outputs": []
    },
    {
      "cell_type": "code",
      "source": [
        "a=int(input(\"enter a mark:\"))\n",
        "if(a>35):\n",
        "    print(\"pass\")\n",
        "else:\n",
        "    print(\"fail\")"
      ],
      "metadata": {
        "id": "3ZU3YO_5e_oO"
      },
      "execution_count": null,
      "outputs": []
    }
  ]
}