{
  "nbformat": 4,
  "nbformat_minor": 0,
  "metadata": {
    "colab": {
      "provenance": [],
      "authorship_tag": "ABX9TyMt64vUo9fLsxk+XvBrtkQN",
      "include_colab_link": true
    },
    "kernelspec": {
      "name": "python3",
      "display_name": "Python 3"
    },
    "language_info": {
      "name": "python"
    }
  },
  "cells": [
    {
      "cell_type": "markdown",
      "metadata": {
        "id": "view-in-github",
        "colab_type": "text"
      },
      "source": [
        "<a href=\"https://colab.research.google.com/github/thirusha-n/thirusha_8D20F121C6578DBB6E9461750C62E871/blob/main/pro%202.ipynb\" target=\"_parent\"><img src=\"https://colab.research.google.com/assets/colab-badge.svg\" alt=\"Open In Colab\"/></a>"
      ]
    },
    {
      "cell_type": "code",
      "execution_count": null,
      "metadata": {
        "id": "hWfEZDmQonya"
      },
      "outputs": [],
      "source": [
        "character = input(\"enter a character:\")\n",
        "vowels='aeiouAEIOU'\n",
        "if character.isalpha():\n",
        "   if character in vowels:\n",
        "      print(\"vowels\")\n",
        "   else:\n",
        "      print(\"constant\")\n",
        "else:\n",
        "    print(\"not a alphabet character\")"
      ]
    }
  ]
}