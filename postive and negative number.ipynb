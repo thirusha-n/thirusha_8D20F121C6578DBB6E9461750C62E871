{
  "nbformat": 4,
  "nbformat_minor": 0,
  "metadata": {
    "colab": {
      "provenance": [],
      "authorship_tag": "ABX9TyNPN8+1LCSgSD2AfrMzVxLf",
      "include_colab_link": true
    },
    "kernelspec": {
      "name": "python3",
      "display_name": "Python 3"
    },
    "language_info": {
      "name": "python"
    }
  },
  "cells": [
    {
      "cell_type": "markdown",
      "metadata": {
        "id": "view-in-github",
        "colab_type": "text"
      },
      "source": [
        "<a href=\"https://colab.research.google.com/github/thirusha-n/thirusha_8D20F121C6578DBB6E9461750C62E871/blob/main/postive%20and%20negative%20number.ipynb\" target=\"_parent\"><img src=\"https://colab.research.google.com/assets/colab-badge.svg\" alt=\"Open In Colab\"/></a>"
      ]
    },
    {
      "cell_type": "code",
      "execution_count": 1,
      "metadata": {
        "colab": {
          "base_uri": "https://localhost:8080/"
        },
        "id": "m-aDiuaP1MN2",
        "outputId": "03baff99-5985-4dfe-eec2-5928e4f07c09"
      },
      "outputs": [
        {
          "output_type": "stream",
          "name": "stdout",
          "text": [
            "enter a number:5\n",
            "5.0 is postive.\n"
          ]
        }
      ],
      "source": [
        "number = float(input(\"enter a number:\"))\n",
        "if number >0:\n",
        "  print(f\"{number} is postive.\")\n",
        "elif number < 0:\n",
        "   print(f\"{number} is negative>.\")\n",
        "else:\n",
        "  print(\"the number is zero.\")"
      ]
    }
  ]
}