{
  "nbformat": 4,
  "nbformat_minor": 0,
  "metadata": {
    "colab": {
      "provenance": [],
      "authorship_tag": "ABX9TyOytQhe9N2sL6ZIwYwmzMtq",
      "include_colab_link": true
    },
    "kernelspec": {
      "name": "python3",
      "display_name": "Python 3"
    },
    "language_info": {
      "name": "python"
    }
  },
  "cells": [
    {
      "cell_type": "markdown",
      "metadata": {
        "id": "view-in-github",
        "colab_type": "text"
      },
      "source": [
        "<a href=\"https://colab.research.google.com/github/thirusha-n/thirusha_8D20F121C6578DBB6E9461750C62E871/blob/main/salary.ipynb\" target=\"_parent\"><img src=\"https://colab.research.google.com/assets/colab-badge.svg\" alt=\"Open In Colab\"/></a>"
      ]
    },
    {
      "cell_type": "code",
      "execution_count": null,
      "metadata": {
        "id": "MaG2ZWJ7s8fY"
      },
      "outputs": [],
      "source": [
        "salary=int(input(\"salary:\"))\n",
        "age=int(input(\"enter age:\"))\n",
        "if(salary>=20000 or age<=25):\n",
        "    bonus=int(input(\"bonus:\"))\n",
        "    if(bonus>=500):\n",
        "        print(\"maximum bonus amt is 500\")\n",
        "    else:\n",
        "        print(\"you are eligible for bonus\")\n",
        "else:\n",
        "    print(\"you are not eligible for bonus\")"
      ]
    }
  ]
}