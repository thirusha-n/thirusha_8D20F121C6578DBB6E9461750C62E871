{
  "nbformat": 4,
  "nbformat_minor": 0,
  "metadata": {
    "colab": {
      "provenance": [],
      "authorship_tag": "ABX9TyN6dANbiiIicTID1K3y0W1O",
      "include_colab_link": true
    },
    "kernelspec": {
      "name": "python3",
      "display_name": "Python 3"
    },
    "language_info": {
      "name": "python"
    }
  },
  "cells": [
    {
      "cell_type": "markdown",
      "metadata": {
        "id": "view-in-github",
        "colab_type": "text"
      },
      "source": [
        "<a href=\"https://colab.research.google.com/github/thirusha-n/thirusha_8D20F121C6578DBB6E9461750C62E871/blob/main/grade.ipynb\" target=\"_parent\"><img src=\"https://colab.research.google.com/assets/colab-badge.svg\" alt=\"Open In Colab\"/></a>"
      ]
    },
    {
      "cell_type": "code",
      "execution_count": null,
      "metadata": {
        "id": "jDA5PxSd6Mvh"
      },
      "outputs": [],
      "source": [
        "if score >= 90:\n",
        "  grade =\"A\"\n",
        "elif score >=80:\n",
        "  grade = \"B\"\n",
        "elif score >=70:\n",
        "  grade = \"C\"\n",
        "elif score >=60:\n",
        "  grade = \"D\"\n",
        "else:\n",
        "  grade = \"F\"\n",
        "  print(f\"the numeric grade {score} corresponds to the letter grade\")\n",
        ""
      ]
    }
  ]
}