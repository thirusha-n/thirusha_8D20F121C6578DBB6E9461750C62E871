{
  "nbformat": 4,
  "nbformat_minor": 0,
  "metadata": {
    "colab": {
      "provenance": [],
      "authorship_tag": "ABX9TyOLSjY7SLWbX3srzuQylqa5",
      "include_colab_link": true
    },
    "kernelspec": {
      "name": "python3",
      "display_name": "Python 3"
    },
    "language_info": {
      "name": "python"
    }
  },
  "cells": [
    {
      "cell_type": "markdown",
      "metadata": {
        "id": "view-in-github",
        "colab_type": "text"
      },
      "source": [
        "<a href=\"https://colab.research.google.com/github/thirusha-n/thirusha_8D20F121C6578DBB6E9461750C62E871/blob/main/second%2010%20pro.ipynb\" target=\"_parent\"><img src=\"https://colab.research.google.com/assets/colab-badge.svg\" alt=\"Open In Colab\"/></a>"
      ]
    },
    {
      "cell_type": "code",
      "execution_count": null,
      "metadata": {
        "id": "VsC23xpnf1kR"
      },
      "outputs": [],
      "source": [
        "salary=int(input(\"salary:\"))\n",
        "age=int(input(\"enter age:\"))\n",
        "if(salary>=20000 or age<=25):\n",
        "    bonus=int(input(\"bonus:\"))\n",
        "    if(bonus>=500):\n",
        "        print(\"maximum bonus amt is 500\")\n",
        "    else:\n",
        "        print(\"you are eligible for bonus\")\n",
        "else:\n",
        "    print(\"you are not eligible for bonus\")"
      ]
    },
    {
      "cell_type": "code",
      "source": [
        "a=int(input(\"Attendance:\"))\n",
        "if(a<20):\n",
        "    print(\"low attendance\")\n",
        "elif(a>20 and a<40):\n",
        "    print(\"less chances to attend exam\")\n",
        "elif(a>41 and a<70):\n",
        "    print(\"need more attendance\")\n",
        "else:\n",
        "    print(\"ur eligible for exam\")"
      ],
      "metadata": {
        "id": "0IbxcIqHgdZn"
      },
      "execution_count": null,
      "outputs": []
    },
    {
      "cell_type": "code",
      "source": [
        "a=int(input(\"A:\"))\n",
        "b=int(input(\"B:\"))\n",
        "operation=input(\"add/sub/mul/div:\")\n",
        "if(operation==\"add\"):\n",
        "    print(a+b)\n",
        "elif(operation==\"sub\"):\n",
        "    print(a-b)\n",
        "elif(operation==\"mul\"):\n",
        "    print(a*b)\n",
        "elif(operation==\"div\"):\n",
        "    print(a/b)\n",
        "else:\n",
        "    print(\"invalid operation\")"
      ],
      "metadata": {
        "id": "kNXmiwwng9je"
      },
      "execution_count": null,
      "outputs": []
    },
    {
      "cell_type": "code",
      "source": [
        "a=input(\"username:\")\n",
        "stud=input(\"2006/2004/1207:\")\n",
        "if(stud==\"2004\"):\n",
        "    print(\"password macthed\")\n",
        "else:\n",
        "    print(\"password doesnot macth\")"
      ],
      "metadata": {
        "id": "DWn1F-rag_lM"
      },
      "execution_count": null,
      "outputs": []
    },
    {
      "cell_type": "code",
      "source": [
        "purchase =float(input(\"enter the purchase amt:\"))\n",
        "if purchase < 100:\n",
        "    print(\"discount_rate = 0\")\n",
        "elif purchase < 500:\n",
        "    print(\"discount_rate = 0.05\")\n",
        "elif purchase < 1000:\n",
        "    print(\"discount_rate = 0.1\")\n",
        "else:\n",
        "    print(\"discount_rate = 0.15\")"
      ],
      "metadata": {
        "id": "cHxP5101hHqV"
      },
      "execution_count": null,
      "outputs": []
    },
    {
      "cell_type": "code",
      "source": [
        "a=int(input(\"enter a no:\"))\n",
        "if(a>0):\n",
        "    print(\"the no is positive\")\n",
        "elif(a<0):\n",
        "    print(\"the no is negative\")\n",
        "else:\n",
        "    print(\"the no is zero\")"
      ],
      "metadata": {
        "id": "LdztjCW0hNG3"
      },
      "execution_count": null,
      "outputs": []
    },
    {
      "cell_type": "code",
      "source": [
        "a=int(input(\"enter a no:A\"))\n",
        "b=int(input(\"enter a no:B\"))\n",
        "c=int(input(\"enter a no:C\"))\n",
        "if(a==b==c):\n",
        "    print(\"equal\")\n",
        "elif(a==b or b==c):\n",
        "    print(\"isosceles\")\n",
        "else:\n",
        "    print(\"scalene\")"
      ],
      "metadata": {
        "id": "3DUGL3G9hXUl"
      },
      "execution_count": null,
      "outputs": []
    },
    {
      "cell_type": "code",
      "source": [
        "a=int(input(\"enter no:\"))\n",
        "if(a>10 and a<20):\n",
        "    print(\"in range\")\n",
        "else:\n",
        "    print(\"not in range\")"
      ],
      "metadata": {
        "id": "MJjsI5LLheR4"
      },
      "execution_count": null,
      "outputs": []
    },
    {
      "cell_type": "code",
      "source": [
        "s1=input(\"enter:s1\")\n",
        "s2=input(\"enter :s2\")\n",
        "if(s1==s2):\n",
        "    print(\"palindrome\")\n",
        "else:\n",
        "    print(\"not palindrome\")"
      ],
      "metadata": {
        "id": "oTy9ULRIhlbY"
      },
      "execution_count": null,
      "outputs": []
    },
    {
      "cell_type": "code",
      "source": [
        "char=input(\"enter:\")\n",
        "if char.isalpha():\n",
        "    print(\"the given char is letters\")\n",
        "elif char.isdigit():\n",
        "    print(\"the given char is digit\")\n",
        "else:\n",
        "    print(\"the given char is special character\")"
      ],
      "metadata": {
        "id": "NNoVmwduhqv0"
      },
      "execution_count": null,
      "outputs": []
    }
  ]
}